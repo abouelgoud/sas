{
  "nbformat": 4,
  "nbformat_minor": 0,
  "metadata": {
    "colab": {
      "name": "Untitled2.ipynb",
      "provenance": [],
      "include_colab_link": true
    },
    "kernelspec": {
      "name": "python3",
      "display_name": "Python 3"
    }
  },
  "cells": [
    {
      "cell_type": "markdown",
      "metadata": {
        "id": "view-in-github",
        "colab_type": "text"
      },
      "source": [
        "<a href=\"https://colab.research.google.com/github/abouelgoud/sas/blob/master/DatesClassification2.ipynb\" target=\"_parent\"><img src=\"https://colab.research.google.com/assets/colab-badge.svg\" alt=\"Open In Colab\"/></a>"
      ]
    },
    {
      "cell_type": "code",
      "metadata": {
        "id": "0z5414fspqYo",
        "colab_type": "code",
        "outputId": "03bccaa7-19d9-4c84-a34a-610c65ea5ac5",
        "colab": {
          "base_uri": "https://localhost:8080/",
          "height": 34
        }
      },
      "source": [
        "%tensorflow_version 2.x"
      ],
      "execution_count": 1,
      "outputs": [
        {
          "output_type": "stream",
          "text": [
            "TensorFlow 2.x selected.\n"
          ],
          "name": "stdout"
        }
      ]
    },
    {
      "cell_type": "code",
      "metadata": {
        "id": "3T0lMVHbpvDL",
        "colab_type": "code",
        "outputId": "ea12ddc1-ce88-40c0-c19b-0de0af3f74cc",
        "colab": {
          "base_uri": "https://localhost:8080/",
          "height": 34
        }
      },
      "source": [
        "!pip install -q tf-hub-nightly==0.8.0.dev201911110007"
      ],
      "execution_count": 2,
      "outputs": [
        {
          "output_type": "stream",
          "text": [
            "\u001b[?25l\r\u001b[K     |███▋                            | 10kB 18.2MB/s eta 0:00:01\r\u001b[K     |███████▎                        | 20kB 1.8MB/s eta 0:00:01\r\u001b[K     |███████████                     | 30kB 2.7MB/s eta 0:00:01\r\u001b[K     |██████████████▋                 | 40kB 1.7MB/s eta 0:00:01\r\u001b[K     |██████████████████▎             | 51kB 2.1MB/s eta 0:00:01\r\u001b[K     |██████████████████████          | 61kB 2.5MB/s eta 0:00:01\r\u001b[K     |█████████████████████████▌      | 71kB 2.9MB/s eta 0:00:01\r\u001b[K     |█████████████████████████████▏  | 81kB 3.3MB/s eta 0:00:01\r\u001b[K     |████████████████████████████████| 92kB 2.8MB/s \n",
            "\u001b[?25h"
          ],
          "name": "stdout"
        }
      ]
    },
    {
      "cell_type": "code",
      "metadata": {
        "id": "bdB0axXtpxyY",
        "colab_type": "code",
        "outputId": "1ba2a23b-4e15-4eae-bf71-8761042c3fdf",
        "colab": {
          "base_uri": "https://localhost:8080/",
          "height": 34
        }
      },
      "source": [
        "!pip install -q git+https://github.com/tensorflow/examples"
      ],
      "execution_count": 3,
      "outputs": [
        {
          "output_type": "stream",
          "text": [
            "  Building wheel for tensorflow-examples (setup.py) ... \u001b[?25l\u001b[?25hdone\n"
          ],
          "name": "stdout"
        }
      ]
    },
    {
      "cell_type": "code",
      "metadata": {
        "id": "r19b_lzkp4Zo",
        "colab_type": "code",
        "colab": {}
      },
      "source": [
        "from __future__ import absolute_import, division, print_function, unicode_literals\n",
        "\n",
        "import numpy as np\n",
        "\n",
        "import tensorflow as tf\n",
        "assert tf.__version__.startswith('2')\n",
        "\n",
        "from tensorflow_examples.lite.model_customization.core.data_util.image_dataloader import ImageClassifierDataLoader\n",
        "from tensorflow_examples.lite.model_customization.core.task import image_classifier\n",
        "from tensorflow_examples.lite.model_customization.core.task.model_spec import efficientnet_b0_spec\n",
        "from tensorflow_examples.lite.model_customization.core.task.model_spec import ImageModelSpec\n",
        "\n",
        "import matplotlib.pyplot as plt"
      ],
      "execution_count": 0,
      "outputs": []
    },
    {
      "cell_type": "code",
      "metadata": {
        "id": "V_4-PK3Fp8aw",
        "colab_type": "code",
        "outputId": "13bbf223-eaad-4f1a-f3b6-6c695a846161",
        "colab": {
          "base_uri": "https://localhost:8080/",
          "height": 51
        }
      },
      "source": [
        "image_path = tf.keras.utils.get_file(      'flower_photos',      'http://hamzaagh-001-site8.itempurl.com/RaghadDates.tar.gz',      untar=True)"
      ],
      "execution_count": 5,
      "outputs": [
        {
          "output_type": "stream",
          "text": [
            "Downloading data from http://hamzaagh-001-site8.itempurl.com/RaghadDates.tar.gz\n",
            "13328384/13325550 [==============================] - 15s 1us/step\n"
          ],
          "name": "stdout"
        }
      ]
    },
    {
      "cell_type": "code",
      "metadata": {
        "id": "9xJgA8B_sLip",
        "colab_type": "code",
        "outputId": "b6cc6e66-f2d8-4a02-cb99-f7ffa70ec27c",
        "colab": {
          "base_uri": "https://localhost:8080/",
          "height": 34
        }
      },
      "source": [
        "image_path\n"
      ],
      "execution_count": 6,
      "outputs": [
        {
          "output_type": "execute_result",
          "data": {
            "text/plain": [
              "'/root/.keras/datasets/flower_photos'"
            ]
          },
          "metadata": {
            "tags": []
          },
          "execution_count": 6
        }
      ]
    },
    {
      "cell_type": "code",
      "metadata": {
        "id": "qAami-rEs_0l",
        "colab_type": "code",
        "outputId": "cc1ef534-99e1-4f4c-ea48-ea01fed28032",
        "colab": {
          "base_uri": "https://localhost:8080/",
          "height": 34
        }
      },
      "source": [
        "data = ImageClassifierDataLoader.from_folder('/root/.keras/datasets/')"
      ],
      "execution_count": 7,
      "outputs": [
        {
          "output_type": "stream",
          "text": [
            "INFO:tensorflow:Load image with size: 64, num_label: 2, labels: Ekhlas, Sukkary.\n"
          ],
          "name": "stdout"
        }
      ]
    },
    {
      "cell_type": "code",
      "metadata": {
        "id": "N15Sx0UHtt_Q",
        "colab_type": "code",
        "outputId": "eb5b02e6-75b7-47bd-d221-0eaf123c91c3",
        "colab": {
          "base_uri": "https://localhost:8080/",
          "height": 445
        }
      },
      "source": [
        "model = image_classifier.create(data)"
      ],
      "execution_count": 8,
      "outputs": [
        {
          "output_type": "stream",
          "text": [
            "Model: \"sequential\"\n",
            "_________________________________________________________________\n",
            "Layer (type)                 Output Shape              Param #   \n",
            "=================================================================\n",
            "keras_layer (KerasLayer)     multiple                  2257984   \n",
            "_________________________________________________________________\n",
            "dropout (Dropout)            multiple                  0         \n",
            "_________________________________________________________________\n",
            "dense (Dense)                multiple                  2562      \n",
            "=================================================================\n",
            "Total params: 2,260,546\n",
            "Trainable params: 2,562\n",
            "Non-trainable params: 2,257,984\n",
            "_________________________________________________________________\n",
            "None\n",
            "INFO:tensorflow:Retraining the models...\n"
          ],
          "name": "stdout"
        },
        {
          "output_type": "stream",
          "text": [
            "INFO:tensorflow:Retraining the models...\n"
          ],
          "name": "stderr"
        },
        {
          "output_type": "stream",
          "text": [
            "Train for 1 steps\n",
            "Epoch 1/5\n",
            "WARNING:tensorflow:Your input ran out of data; interrupting training. Make sure that your dataset or generator can generate at least `steps_per_epoch * epochs` batches (in this case, 0 batches). You may need to use the repeat() function when building your dataset.\n"
          ],
          "name": "stdout"
        },
        {
          "output_type": "stream",
          "text": [
            "WARNING:tensorflow:Your input ran out of data; interrupting training. Make sure that your dataset or generator can generate at least `steps_per_epoch * epochs` batches (in this case, 0 batches). You may need to use the repeat() function when building your dataset.\n"
          ],
          "name": "stderr"
        },
        {
          "output_type": "stream",
          "text": [
            "\r1/1 [==============================] - 9s 9s/step - loss: 1.1656 - accuracy: 0.5625 - val_loss: inf - val_accuracy: 0.6667\n"
          ],
          "name": "stdout"
        },
        {
          "output_type": "stream",
          "text": [
            "/tensorflow-2.0.0/python3.6/tensorflow_core/python/keras/engine/training_utils.py:141: RuntimeWarning: divide by zero encountered in double_scalars\n",
            "  self.results[0] /= (self.num_samples or self.steps)\n"
          ],
          "name": "stderr"
        }
      ]
    },
    {
      "cell_type": "code",
      "metadata": {
        "id": "4aXFtE5gvdvS",
        "colab_type": "code",
        "outputId": "b3389b93-d34a-4894-cafc-dcc32b5d228d",
        "colab": {
          "base_uri": "https://localhost:8080/",
          "height": 34
        }
      },
      "source": [
        "loss, accuracy = model.evaluate()"
      ],
      "execution_count": 9,
      "outputs": [
        {
          "output_type": "stream",
          "text": [
            "\r1/1 [==============================] - 0s 357ms/step - loss: 0.4758 - accuracy: 1.0000\n"
          ],
          "name": "stdout"
        }
      ]
    },
    {
      "cell_type": "code",
      "metadata": {
        "id": "aPh-mF6lbuMD",
        "colab_type": "code",
        "outputId": "15837a53-3853-436c-c8eb-3930e119b9a7",
        "colab": {
          "base_uri": "https://localhost:8080/",
          "height": 108
        }
      },
      "source": [
        "# parameter matches or not.\n",
        "def get_label_color(val1, val2):\n",
        "  if val1 == val2:\n",
        "    return 'black'\n",
        "  else:\n",
        "    return 'red'\n",
        "\n",
        "# Then plot 100 test images and their predicted labels.\n",
        "# If a prediction result is different from the label provided label in \"test\"\n",
        "# dataset, we will highlight it in red color.\n",
        "plt.figure(figsize=(20, 20))\n",
        "for i, (image, label) in enumerate(model.test_data.dataset.take(100)):\n",
        "  ax = plt.subplot(10, 10, i+1)\n",
        "  plt.xticks([])\n",
        "  plt.yticks([])\n",
        "  plt.grid(False)\n",
        "  plt.imshow(image.numpy(), cmap=plt.cm.gray)\n",
        "\n",
        "  # Pre-processing should remain the same. Currently, just normalize each pixel value to [0, 1] and resize image to [224, 224, 3].\n",
        "  image, _ = model.preprocess_image(image, label)\n",
        "  # Add batch dimension and convert to float32 to match with the model's input\n",
        "  # data format.\n",
        "  image = tf.expand_dims(image, 0).numpy()\n",
        "\n",
        "  predict_prob = model.model.predict(image)\n",
        "  predict_label = np.argmax(predict_prob, axis=1)[0]\n",
        "\n",
        "  ax.xaxis.label.set_color(get_label_color(predict_label,\\\n",
        "                                           label.numpy()))\n",
        "  plt.xlabel('Predicted: %s' % model.test_data.index_to_label[predict_label])\n",
        "plt.show()"
      ],
      "execution_count": 10,
      "outputs": [
        {
          "output_type": "display_data",
          "data": {
            "image/png": "[encoded data removed]",
            "text/plain": [
              "<Figure size 1440x1440 with 5 Axes>"
            ]
          },
          "metadata": {
            "tags": []
          }
        }
      ]
    },
    {
      "cell_type": "code",
      "metadata": {
        "id": "LQ_GhLmmvkUw",
        "colab_type": "code",
        "outputId": "64e31cb2-5cf2-4906-e2c9-09bdef9a6ec7",
        "colab": {
          "base_uri": "https://localhost:8080/",
          "height": 51
        }
      },
      "source": [
        "model.export('image_classifier.tflite', 'image_labels.txt')"
      ],
      "execution_count": 11,
      "outputs": [
        {
          "output_type": "stream",
          "text": [
            "INFO:tensorflow:Export to tflite model image_classifier.tflite, saved labels in image_labels.txt.\n"
          ],
          "name": "stdout"
        },
        {
          "output_type": "stream",
          "text": [
            "INFO:tensorflow:Export to tflite model image_classifier.tflite, saved labels in image_labels.txt.\n"
          ],
          "name": "stderr"
        }
      ]
    },
    {
      "cell_type": "code",
      "metadata": {
        "id": "BcdVkRHLbJZe",
        "colab_type": "code",
        "outputId": "26208d7f-cca6-41f1-970a-d567cb1a8fae",
        "colab": {
          "base_uri": "https://localhost:8080/",
          "height": 34
        }
      },
      "source": [
        "# Read TensorFlow Lite model from TensorFlow Lite file.\n",
        "import os\n",
        "\n",
        "with tf.io.gfile.GFile('image_classifier.tflite', 'rb') as f:\n",
        "  model_content = f.read()\n",
        "  # urllib.request.urlretrieve('image_classifier.tflite', '/Users/17361/Downloads/image_classifier.tflite')\n",
        "  tf.io.gfile.copy('image_classifier.tflite','/root/.keras/image_classifier.tflite')\n",
        "\n",
        "# Read label names from label file.\n",
        "with tf.io.gfile.GFile('image_labels.txt', 'r') as f:\n",
        "  label_names = f.read().split('\\n')\n",
        "\n",
        "# Initialze TensorFlow Lite inpterpreter.\n",
        "interpreter = tf.lite.Interpreter(model_content=model_content)\n",
        "interpreter.allocate_tensors()\n",
        "input_index = interpreter.get_input_details()[0]['index']\n",
        "output = interpreter.tensor(interpreter.get_output_details()[0][\"index\"])\n",
        "\n",
        "# Run predictions on each test image data and calculate accuracy.\n",
        "accurate_count = 0\n",
        "for i, (image, label) in enumerate(model.test_data.dataset):\n",
        "    # Pre-processing should remain the same. Currently, just normalize each pixel value and resize image according to the model's specification.\n",
        "    image, _ = model.preprocess_image(image, label)\n",
        "    # Add batch dimension and convert to float32 to match with the model's input\n",
        "    # data format.\n",
        "    image = tf.expand_dims(image, 0).numpy()\n",
        "\n",
        "    # Run inference.\n",
        "    interpreter.set_tensor(input_index, image)\n",
        "    interpreter.invoke()\n",
        "\n",
        "    # Post-processing: remove batch dimension and find the label with highest\n",
        "    # probability.\n",
        "    predict_label = np.argmax(output()[0])\n",
        "    # Get label name with label index.\n",
        "    predict_label_name = label_names[predict_label]\n",
        "\n",
        "    accurate_count += (predict_label == label.numpy())\n",
        "\n",
        "accuracy = accurate_count * 1.0 / model.test_data.size\n",
        "print('TensorFlow Lite model accuracy = %.4f' % accuracy)"
      ],
      "execution_count": 12,
      "outputs": [
        {
          "output_type": "stream",
          "text": [
            "TensorFlow Lite model accuracy = 1.0000\n"
          ],
          "name": "stdout"
        }
      ]
    }
  ]
}